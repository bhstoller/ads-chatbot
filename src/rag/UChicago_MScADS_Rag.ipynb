{
  "cells": [
    {
      "cell_type": "code",
      "execution_count": 28,
      "metadata": {},
      "outputs": [],
      "source": [
        "import json\n",
        "import os\n",
        "import pandas as pd\n",
        "\n",
        "from langchain_community.embeddings import OpenAIEmbeddings\n",
        "from langchain.vectorstores import Chroma\n",
        "from langchain_openai import ChatOpenAI\n",
        "from langchain.chains import RetrievalQA"
      ]
    },
    {
      "cell_type": "code",
      "execution_count": 29,
      "metadata": {},
      "outputs": [],
      "source": [
        "# for LLM evaluation\n",
        "from ragas.llms import LangchainLLMWrapper\n",
        "from ragas.dataset_schema import SingleTurnSample\n",
        "from ragas.metrics import (\n",
        "    AnswerAccuracy,\n",
        "    ContextRelevance,\n",
        "    LLMContextRecall,\n",
        "    ResponseGroundedness\n",
        ")"
      ]
    },
    {
      "cell_type": "code",
      "execution_count": 30,
      "metadata": {},
      "outputs": [
        {
          "data": {
            "text/plain": [
              "True"
            ]
          },
          "execution_count": 30,
          "metadata": {},
          "output_type": "execute_result"
        }
      ],
      "source": [
        "from dotenv import load_dotenv\n",
        "load_dotenv()"
      ]
    },
    {
      "cell_type": "markdown",
      "metadata": {},
      "source": [
        "# 1: Load Vector Store"
      ]
    },
    {
      "cell_type": "code",
      "execution_count": 31,
      "metadata": {
        "colab": {
          "base_uri": "https://localhost:8080/"
        },
        "id": "p9hPEtQogXDg",
        "outputId": "363e19d6-5e3d-4794-9e72-361935d87193"
      },
      "outputs": [],
      "source": [
        "chroma_persist_directory = os.path.abspath(\"../data/chroma_rag_store\")\n",
        "\n",
        "# Load from saved vector store instead of rebuilding\n",
        "embeddings = OpenAIEmbeddings()\n",
        "\n",
        "# Load persisted vectorstore\n",
        "retriever = Chroma(\n",
        "    persist_directory=chroma_persist_directory,\n",
        "    embedding_function=embeddings\n",
        ").as_retriever()\n",
        "\n",
        "llm = ChatOpenAI(model_name=\"gpt-4o\", temperature=0)\n",
        "rag = RetrievalQA.from_chain_type(llm=llm, retriever=retriever, return_source_documents=True)"
      ]
    },
    {
      "cell_type": "markdown",
      "metadata": {},
      "source": [
        "# 2: Query-Response Pairs"
      ]
    },
    {
      "cell_type": "code",
      "execution_count": 32,
      "metadata": {},
      "outputs": [],
      "source": [
        "results = []"
      ]
    },
    {
      "cell_type": "code",
      "execution_count": 33,
      "metadata": {},
      "outputs": [
        {
          "name": "stdout",
          "output_type": "stream",
          "text": [
            "\n",
            "💬 Answer: The tuition for the MS in Applied Data Science program is $5,967 per course, with a total tuition cost of $71,604. Please note that tuition is expected to increase by 3-7% per year.\n",
            "\n",
            "📚 Sources:\n",
            "- https://datascience.uchicago.edu/education/masters-programs/ms-in-applied-data-science/tuition-fees-aid/\n",
            "- https://datascience.uchicago.edu/education/masters-programs/ms-in-applied-data-science/how-to-apply/\n",
            "- https://datascience.uchicago.edu/education/masters-programs/ms-in-applied-data-science/how-to-apply/#main\n",
            "- https://datascience.uchicago.edu/education/masters-programs/ms-in-applied-data-science/course-progressions/\n"
          ]
        }
      ],
      "source": [
        "question = \"What is tuition cost for the program?\"\n",
        "response = rag({\"query\": question})\n",
        "\n",
        "print(\"\\n💬 Answer:\", response['result'])\n",
        "print(\"\\n📚 Sources:\")\n",
        "for doc in response['source_documents']:\n",
        "    print(\"-\", doc.metadata['source'])\n",
        "\n",
        "results.append({\n",
        "    \"Question\": question,\n",
        "    \"Answer\": response['result'],\n",
        "    \"Top Sources (Truncated)\": response['source_documents']\n",
        "})"
      ]
    },
    {
      "cell_type": "code",
      "execution_count": 34,
      "metadata": {
        "colab": {
          "base_uri": "https://localhost:8080/"
        },
        "id": "Z7uVeSRGg4vx",
        "outputId": "fe191569-01cc-4ab1-daa4-1d86c6ba85b1"
      },
      "outputs": [
        {
          "name": "stdout",
          "output_type": "stream",
          "text": [
            "\n",
            "💬 Answer: The MS in Applied Data Science program offers partial tuition scholarships to top applicants. These scholarships do not require a separate application, but it is recommended that candidates submit their applications ahead of the early deadline to maximize their chances of securing a scholarship. Additionally, students are encouraged to investigate scholarships offered through various civic and professional organizations, foundations, and state agencies. Merit-based scholarships are also available for eligible applicants, and once you apply to the program, you will be automatically considered for a scholarship.\n",
            "\n",
            "📚 Sources:\n",
            "- https://datascience.uchicago.edu/education/masters-programs/ms-in-applied-data-science/how-to-apply/\n",
            "- https://datascience.uchicago.edu/education/masters-programs/ms-in-applied-data-science/how-to-apply/#main\n",
            "- https://datascience.uchicago.edu/education/masters-programs/ms-in-applied-data-science/tuition-fees-aid/\n",
            "- https://datascience.uchicago.edu/education/masters-programs/ms-in-applied-data-science/faqs/#accordion-tab-19\n"
          ]
        }
      ],
      "source": [
        "question = \"What scholarships are available for the program?\"\n",
        "response = rag({\"query\": question})\n",
        "\n",
        "print(\"\\n💬 Answer:\", response['result'])\n",
        "print(\"\\n📚 Sources:\")\n",
        "for doc in response['source_documents']:\n",
        "    print(\"-\", doc.metadata['source'])\n",
        "\n",
        "results.append({\n",
        "    \"Question\": question,\n",
        "    \"Answer\": response['result'],\n",
        "    \"Top Sources (Truncated)\": response['source_documents']\n",
        "})"
      ]
    },
    {
      "cell_type": "code",
      "execution_count": 35,
      "metadata": {
        "colab": {
          "base_uri": "https://localhost:8080/"
        },
        "id": "Yw9PtKPDg9cC",
        "outputId": "aac935c3-5e5f-4830-8102-a0342268e9c9"
      },
      "outputs": [
        {
          "name": "stdout",
          "output_type": "stream",
          "text": [
            "\n",
            "💬 Answer: The minimum scores for the Master’s in Applied Data Science program are as follows: TOEFL, 102 (no subscore requirement); IELTS, 7 (no subscore requirement).\n",
            "\n",
            "📚 Sources:\n",
            "- https://datascience.uchicago.edu/education/masters-programs/ms-in-applied-data-science/how-to-apply/\n",
            "- https://datascience.uchicago.edu/education/masters-programs/ms-in-applied-data-science/how-to-apply/#main\n",
            "- https://datascience.uchicago.edu/education/masters-programs/ms-in-applied-data-science/faqs/#lcpf6f-accordion\n",
            "- https://datascience.uchicago.edu/education/masters-programs/ms-in-applied-data-science/faqs/#fn8fad-accordion\n"
          ]
        }
      ],
      "source": [
        "question = \"What are the minimum scores for the TOEFL and IELTS English Language Requirement?\"\n",
        "response = rag({\"query\": question})\n",
        "\n",
        "print(\"\\n💬 Answer:\", response['result'])\n",
        "print(\"\\n📚 Sources:\")\n",
        "for doc in response['source_documents']:\n",
        "    print(\"-\", doc.metadata['source'])\n",
        "\n",
        "results.append({\n",
        "    \"Question\": question,\n",
        "    \"Answer\": response['result'],\n",
        "    \"Top Sources (Truncated)\": response['source_documents']\n",
        "})"
      ]
    },
    {
      "cell_type": "code",
      "execution_count": 36,
      "metadata": {
        "colab": {
          "base_uri": "https://localhost:8080/"
        },
        "id": "hXYNgL3OhA9i",
        "outputId": "94aa5f6d-a1a2-4659-d61a-8a8ebb66e26a"
      },
      "outputs": [
        {
          "name": "stdout",
          "output_type": "stream",
          "text": [
            "\n",
            "💬 Answer: For questions regarding an application fee waiver, you should refer to the Physical Sciences Division fee waiver policy.\n",
            "\n",
            "📚 Sources:\n",
            "- https://datascience.uchicago.edu/education/masters-programs/ms-in-applied-data-science/how-to-apply/\n",
            "- https://datascience.uchicago.edu/education/masters-programs/ms-in-applied-data-science/how-to-apply/#main\n",
            "- https://datascience.uchicago.edu/education/masters-programs/ms-in-applied-data-science/tuition-fees-aid/\n",
            "- https://datascience.uchicago.edu/education/masters-programs/ms-in-applied-data-science/faqs/#1yyol2-accordion\n"
          ]
        }
      ],
      "source": [
        "question = \"Is there an application fee waiver?\"\n",
        "response = rag({\"query\": question})\n",
        "\n",
        "print(\"\\n💬 Answer:\", response['result'])\n",
        "print(\"\\n📚 Sources:\")\n",
        "for doc in response['source_documents']:\n",
        "    print(\"-\", doc.metadata['source'])\n",
        "\n",
        "results.append({\n",
        "    \"Question\": question,\n",
        "    \"Answer\": response['result'],\n",
        "    \"Top Sources (Truncated)\": response['source_documents']\n",
        "})"
      ]
    },
    {
      "cell_type": "code",
      "execution_count": 37,
      "metadata": {
        "colab": {
          "base_uri": "https://localhost:8080/"
        },
        "id": "hp35eiD2hhc-",
        "outputId": "cc776c51-7cff-4354-d5b5-82cca74e6fed"
      },
      "outputs": [
        {
          "name": "stdout",
          "output_type": "stream",
          "text": [
            "\n",
            "💬 Answer: The deadlines for the in-person MS in Applied Data Science program are as follows:\n",
            "\n",
            "- Third Priority Application Deadline: May 6, 2025\n",
            "- Final Application Deadline: June 23, 2025\n",
            "\n",
            "Application decisions are released approximately 1 to 2 months after each respective deadline.\n",
            "\n",
            "📚 Sources:\n",
            "- https://datascience.uchicago.edu/education/masters-programs/ms-in-applied-data-science/events-deadlines/\n",
            "- https://datascience.uchicago.edu/education/masters-programs/ms-in-applied-data-science/events-deadlines/#main\n",
            "- https://datascience.uchicago.edu/education/masters-programs/ms-in-applied-data-science/how-to-apply/\n",
            "- https://datascience.uchicago.edu/education/masters-programs/ms-in-applied-data-science/how-to-apply/#main\n"
          ]
        }
      ],
      "source": [
        "question = \"What are the deadlines for the in-person program?\"\n",
        "response = rag({\"query\": question})\n",
        "\n",
        "print(\"\\n💬 Answer:\", response['result'])\n",
        "print(\"\\n📚 Sources:\")\n",
        "for doc in response['source_documents']:\n",
        "    print(\"-\", doc.metadata['source'])\n",
        "\n",
        "results.append({\n",
        "    \"Question\": question,\n",
        "    \"Answer\": response['result'],\n",
        "    \"Top Sources (Truncated)\": response['source_documents']\n",
        "})"
      ]
    },
    {
      "cell_type": "code",
      "execution_count": 38,
      "metadata": {
        "colab": {
          "base_uri": "https://localhost:8080/"
        },
        "id": "-YOL_o4Xhozj",
        "outputId": "2328bd1e-388f-4fda-80ff-0477da586c2a"
      },
      "outputs": [
        {
          "name": "stdout",
          "output_type": "stream",
          "text": [
            "\n",
            "💬 Answer: The provided context does not specify the exact timeline for when you will receive a decision on your application for the Master's in Applied Data Science program. If you have specific questions about the timeline, it might be best to contact the admissions office directly or check their FAQs page for more detailed information.\n",
            "\n",
            "📚 Sources:\n",
            "- https://datascience.uchicago.edu/education/masters-programs/ms-in-applied-data-science/how-to-apply/\n",
            "- https://datascience.uchicago.edu/education/masters-programs/ms-in-applied-data-science/how-to-apply/#main\n",
            "- https://datascience.uchicago.edu/education/masters-programs/ms-in-applied-data-science/faqs/#accordion-tab-19\n",
            "- https://datascience.uchicago.edu/education/masters-programs/ms-in-applied-data-science/faqs/#9f3diz-accordion\n"
          ]
        }
      ],
      "source": [
        "question = \"How long will it take for me to receive a decision on my application?\"\n",
        "response = rag({\"query\": question})\n",
        "\n",
        "print(\"\\n💬 Answer:\", response['result'])\n",
        "print(\"\\n📚 Sources:\")\n",
        "for doc in response['source_documents']:\n",
        "    print(\"-\", doc.metadata['source'])\n",
        "\n",
        "results.append({\n",
        "    \"Question\": question,\n",
        "    \"Answer\": response['result'],\n",
        "    \"Top Sources (Truncated)\": response['source_documents']\n",
        "})"
      ]
    },
    {
      "cell_type": "code",
      "execution_count": 39,
      "metadata": {},
      "outputs": [
        {
          "name": "stdout",
          "output_type": "stream",
          "text": [
            "\n",
            "💬 Answer: The provided context does not specify whether you can set up an advising appointment with the enrollment management team. You may want to contact the University of Chicago's Data Science Institute directly at data-science@uchicago.edu for more information on setting up an advising appointment.\n",
            "\n",
            "📚 Sources:\n",
            "- https://datascience.uchicago.edu/education/masters-programs/ms-in-applied-data-science/faqs/#accordion-tab-19\n",
            "- https://datascience.uchicago.edu/education/masters-programs/ms-in-applied-data-science/faqs/#lcpf6f-accordion\n",
            "- https://datascience.uchicago.edu/education/masters-programs/ms-in-applied-data-science/faqs/#9o0gdc-accordion\n",
            "- https://datascience.uchicago.edu/education/masters-programs/ms-in-applied-data-science/faqs/#accordion-tab-6\n"
          ]
        }
      ],
      "source": [
        "question = \"Can I set up an advising appointment with the enrollment management team?\"\n",
        "response = rag({\"query\": question})\n",
        "\n",
        "print(\"\\n💬 Answer:\", response['result'])\n",
        "print(\"\\n📚 Sources:\")\n",
        "for doc in response['source_documents']:\n",
        "    print(\"-\", doc.metadata['source'])\n",
        "\n",
        "results.append({\n",
        "    \"Question\": question,\n",
        "    \"Answer\": response['result'],\n",
        "    \"Top Sources (Truncated)\": response['source_documents']\n",
        "})"
      ]
    },
    {
      "cell_type": "code",
      "execution_count": 40,
      "metadata": {},
      "outputs": [
        {
          "name": "stdout",
          "output_type": "stream",
          "text": [
            "\n",
            "💬 Answer: You can mail your official transcripts to the following address:\n",
            "\n",
            "The University of Chicago  \n",
            "Attention: MS in Applied Data Science Admissions  \n",
            "455 N Cityfront Plaza Dr., Suite 950  \n",
            "Chicago, Illinois 60611  \n",
            "\n",
            "Please ensure that the documents are received in their original, school-sealed envelope to be considered official.\n",
            "\n",
            "📚 Sources:\n",
            "- https://datascience.uchicago.edu/education/masters-programs/ms-in-applied-data-science/how-to-apply/\n",
            "- https://datascience.uchicago.edu/education/masters-programs/ms-in-applied-data-science/how-to-apply/#main\n",
            "- https://datascience.uchicago.edu/education/masters-programs/ms-in-applied-data-science/faqs/#accordion-tab-19\n",
            "- https://datascience.uchicago.edu/education/masters-programs/ms-in-applied-data-science/faqs/#fn8fad-accordion\n"
          ]
        }
      ],
      "source": [
        "question = \"Where can I mail my official transcripts?\"\n",
        "response = rag({\"query\": question})\n",
        "\n",
        "print(\"\\n💬 Answer:\", response['result'])\n",
        "print(\"\\n📚 Sources:\")\n",
        "for doc in response['source_documents']:\n",
        "    print(\"-\", doc.metadata['source'])\n",
        "\n",
        "results.append({\n",
        "    \"Question\": question,\n",
        "    \"Answer\": response['result'],\n",
        "    \"Top Sources (Truncated)\": response['source_documents']\n",
        "})"
      ]
    },
    {
      "cell_type": "code",
      "execution_count": 41,
      "metadata": {},
      "outputs": [
        {
          "name": "stdout",
          "output_type": "stream",
          "text": [
            "\n",
            "💬 Answer: No, the Master’s in Applied Data Science Online Program is not eligible for visa sponsorship.\n",
            "\n",
            "📚 Sources:\n",
            "- https://datascience.uchicago.edu/education/masters-programs/ms-in-applied-data-science/faqs/#9o0gdc-accordion\n",
            "- https://datascience.uchicago.edu/education/masters-programs/ms-in-applied-data-science/faqs/#yf72j5-accordion\n",
            "- https://datascience.uchicago.edu/education/masters-programs/ms-in-applied-data-science/faqs/#accordion-tab-6\n",
            "- https://datascience.uchicago.edu/education/masters-programs/ms-in-applied-data-science/faqs/#fn8fad-accordion\n"
          ]
        }
      ],
      "source": [
        "question = \"Does the Master’s in Applied Data Science Online program provide visa sponsorship?\"\n",
        "response = rag({\"query\": question})\n",
        "\n",
        "print(\"\\n💬 Answer:\", response['result'])\n",
        "print(\"\\n📚 Sources:\")\n",
        "for doc in response['source_documents']:\n",
        "    print(\"-\", doc.metadata['source'])\n",
        "\n",
        "results.append({\n",
        "    \"Question\": question,\n",
        "    \"Answer\": response['result'],\n",
        "    \"Top Sources (Truncated)\": response['source_documents']\n",
        "})"
      ]
    },
    {
      "cell_type": "code",
      "execution_count": 42,
      "metadata": {},
      "outputs": [
        {
          "name": "stdout",
          "output_type": "stream",
          "text": [
            "\n",
            "💬 Answer: Applicants interested in the Joint MBA/MS degree will apply through Booth’s centralized, joint-application process. You should complete the Chicago Booth Full-Time MBA application and select the MBA/MS in Applied Data Science as your program of interest. An MBA/MS program supplement will be available for completion within your Booth application. This supplement contains Applied Data Science specific questions that will be reviewed by the Applied Data Science admissions team along with your full Booth application. For complete consideration, you should complete the MBA application and the joint degree program supplement in the same application round prior to submitting the application.\n",
            "\n",
            "📚 Sources:\n",
            "- https://datascience.uchicago.edu/education/masters-programs/ms-in-applied-data-science/faqs/#vsdr2t-accordion\n",
            "- https://datascience.uchicago.edu/education/masters-programs/ms-in-applied-data-science/faqs/#z0pugs-accordion\n",
            "- https://datascience.uchicago.edu/education/masters-programs/ms-in-applied-data-science/faqs/#accordion-tab-11\n",
            "- https://datascience.uchicago.edu/education/masters-programs/ms-in-applied-data-science/faqs/#jpdnfl-accordion\n"
          ]
        }
      ],
      "source": [
        "question = \"How do I apply to the MBA/MS program?\"\n",
        "response = rag({\"query\": question})\n",
        "\n",
        "print(\"\\n💬 Answer:\", response['result'])\n",
        "print(\"\\n📚 Sources:\")\n",
        "for doc in response['source_documents']:\n",
        "    print(\"-\", doc.metadata['source'])\n",
        "\n",
        "results.append({\n",
        "    \"Question\": question,\n",
        "    \"Answer\": response['result'],\n",
        "    \"Top Sources (Truncated)\": response['source_documents']\n",
        "})"
      ]
    },
    {
      "cell_type": "code",
      "execution_count": 43,
      "metadata": {},
      "outputs": [
        {
          "name": "stdout",
          "output_type": "stream",
          "text": [
            "\n",
            "💬 Answer: Yes, the full-time, in-person MS in Applied Data Science program is STEM/OPT eligible.\n",
            "\n",
            "📚 Sources:\n",
            "- https://datascience.uchicago.edu/education/masters-programs/ms-in-applied-data-science/in-person-program/\n",
            "- https://datascience.uchicago.edu/education/masters-programs/ms-in-applied-data-science/faqs/#1yyol2-accordion\n",
            "- https://datascience.uchicago.edu/education/masters-programs/ms-in-applied-data-science/faqs/#gfbjm7-accordion\n",
            "- https://datascience.uchicago.edu/education/masters-programs/ms-in-applied-data-science/faqs/#lcpf6f-accordion\n"
          ]
        }
      ],
      "source": [
        "question = \"Is the MS in Applied Data Science program STEM/OPT eligible?\"\n",
        "response = rag({\"query\": question})\n",
        "\n",
        "print(\"\\n💬 Answer:\", response['result'])\n",
        "print(\"\\n📚 Sources:\")\n",
        "for doc in response['source_documents']:\n",
        "    print(\"-\", doc.metadata['source'])\n",
        "\n",
        "results.append({\n",
        "    \"Question\": question,\n",
        "    \"Answer\": response['result'],\n",
        "    \"Top Sources (Truncated)\": response['source_documents']\n",
        "})"
      ]
    },
    {
      "cell_type": "code",
      "execution_count": 44,
      "metadata": {},
      "outputs": [
        {
          "name": "stdout",
          "output_type": "stream",
          "text": [
            "\n",
            "💬 Answer: You must successfully complete 12 courses to earn UChicago’s Master’s in Applied Data Science.\n",
            "\n",
            "📚 Sources:\n",
            "- https://datascience.uchicago.edu/education/masters-programs/ms-in-applied-data-science/\n",
            "- https://datascience.uchicago.edu/education/masters-programs/ms-in-applied-data-science/#main\n",
            "- https://datascience.uchicago.edu/education/masters-programs/ms-in-applied-data-science/online-program/\n",
            "- https://datascience.uchicago.edu/education/masters-programs/ms-in-applied-data-science/online-program/%20\n"
          ]
        }
      ],
      "source": [
        "question = \"How many courses must you complete to earn UChicago’s Master’s in Applied Data Science?\"\n",
        "response = rag({\"query\": question})\n",
        "\n",
        "print(\"\\n💬 Answer:\", response['result'])\n",
        "print(\"\\n📚 Sources:\")\n",
        "for doc in response['source_documents']:\n",
        "    print(\"-\", doc.metadata['source'])\n",
        "\n",
        "results.append({\n",
        "    \"Question\": question,\n",
        "    \"Answer\": response['result'],\n",
        "    \"Top Sources (Truncated)\": response['source_documents']\n",
        "})"
      ]
    },
    {
      "cell_type": "code",
      "execution_count": 46,
      "metadata": {},
      "outputs": [
        {
          "data": {
            "text/html": [
              "<div>\n",
              "<style scoped>\n",
              "    .dataframe tbody tr th:only-of-type {\n",
              "        vertical-align: middle;\n",
              "    }\n",
              "\n",
              "    .dataframe tbody tr th {\n",
              "        vertical-align: top;\n",
              "    }\n",
              "\n",
              "    .dataframe thead th {\n",
              "        text-align: right;\n",
              "    }\n",
              "</style>\n",
              "<table border=\"1\" class=\"dataframe\">\n",
              "  <thead>\n",
              "    <tr style=\"text-align: right;\">\n",
              "      <th></th>\n",
              "      <th>Question</th>\n",
              "      <th>Answer</th>\n",
              "      <th>Top Sources (Truncated)</th>\n",
              "    </tr>\n",
              "  </thead>\n",
              "  <tbody>\n",
              "    <tr>\n",
              "      <th>0</th>\n",
              "      <td>What is tuition cost for the program?</td>\n",
              "      <td>The tuition for the MS in Applied Data Science...</td>\n",
              "      <td>[page_content='Skip to main content\\n\\nMS in A...</td>\n",
              "    </tr>\n",
              "    <tr>\n",
              "      <th>1</th>\n",
              "      <td>What scholarships are available for the program?</td>\n",
              "      <td>The MS in Applied Data Science program offers ...</td>\n",
              "      <td>[page_content='Skip to main content\\n\\nMS in A...</td>\n",
              "    </tr>\n",
              "    <tr>\n",
              "      <th>2</th>\n",
              "      <td>What are the minimum scores for the TOEFL and ...</td>\n",
              "      <td>The minimum scores for the Master’s in Applied...</td>\n",
              "      <td>[page_content='Skip to main content\\n\\nMS in A...</td>\n",
              "    </tr>\n",
              "    <tr>\n",
              "      <th>3</th>\n",
              "      <td>Is there an application fee waiver?</td>\n",
              "      <td>For questions regarding an application fee wai...</td>\n",
              "      <td>[page_content='Skip to main content\\n\\nMS in A...</td>\n",
              "    </tr>\n",
              "    <tr>\n",
              "      <th>4</th>\n",
              "      <td>What are the deadlines for the in-person program?</td>\n",
              "      <td>The deadlines for the in-person MS in Applied ...</td>\n",
              "      <td>[page_content='Skip to main content\\n\\nMS in A...</td>\n",
              "    </tr>\n",
              "    <tr>\n",
              "      <th>5</th>\n",
              "      <td>How long will it take for me to receive a deci...</td>\n",
              "      <td>The provided context does not specify the exac...</td>\n",
              "      <td>[page_content='Skip to main content\\n\\nMS in A...</td>\n",
              "    </tr>\n",
              "    <tr>\n",
              "      <th>6</th>\n",
              "      <td>Can I set up an advising appointment with the ...</td>\n",
              "      <td>The provided context does not specify whether ...</td>\n",
              "      <td>[page_content='Skip to main content\\nAbout\\nRe...</td>\n",
              "    </tr>\n",
              "    <tr>\n",
              "      <th>7</th>\n",
              "      <td>Where can I mail my official transcripts?</td>\n",
              "      <td>You can mail your official transcripts to the ...</td>\n",
              "      <td>[page_content='Skip to main content\\n\\nMS in A...</td>\n",
              "    </tr>\n",
              "    <tr>\n",
              "      <th>8</th>\n",
              "      <td>Does the Master’s in Applied Data Science Onli...</td>\n",
              "      <td>No, the Master’s in Applied Data Science Onlin...</td>\n",
              "      <td>[page_content='Skip to main content\\nAbout\\nRe...</td>\n",
              "    </tr>\n",
              "    <tr>\n",
              "      <th>9</th>\n",
              "      <td>How do I apply to the MBA/MS program?</td>\n",
              "      <td>Applicants interested in the Joint MBA/MS degr...</td>\n",
              "      <td>[page_content='Skip to main content\\nAbout\\nRe...</td>\n",
              "    </tr>\n",
              "    <tr>\n",
              "      <th>10</th>\n",
              "      <td>Is the MS in Applied Data Science program STEM...</td>\n",
              "      <td>Yes, the full-time, in-person MS in Applied Da...</td>\n",
              "      <td>[page_content='Skip to main content\\n\\nMS in A...</td>\n",
              "    </tr>\n",
              "    <tr>\n",
              "      <th>11</th>\n",
              "      <td>How many courses must you complete to earn UCh...</td>\n",
              "      <td>You must successfully complete 12 courses to e...</td>\n",
              "      <td>[page_content='Skip to main content\\nAbout\\nRe...</td>\n",
              "    </tr>\n",
              "  </tbody>\n",
              "</table>\n",
              "</div>"
            ],
            "text/plain": [
              "                                             Question  \\\n",
              "0               What is tuition cost for the program?   \n",
              "1    What scholarships are available for the program?   \n",
              "2   What are the minimum scores for the TOEFL and ...   \n",
              "3                 Is there an application fee waiver?   \n",
              "4   What are the deadlines for the in-person program?   \n",
              "5   How long will it take for me to receive a deci...   \n",
              "6   Can I set up an advising appointment with the ...   \n",
              "7           Where can I mail my official transcripts?   \n",
              "8   Does the Master’s in Applied Data Science Onli...   \n",
              "9               How do I apply to the MBA/MS program?   \n",
              "10  Is the MS in Applied Data Science program STEM...   \n",
              "11  How many courses must you complete to earn UCh...   \n",
              "\n",
              "                                               Answer  \\\n",
              "0   The tuition for the MS in Applied Data Science...   \n",
              "1   The MS in Applied Data Science program offers ...   \n",
              "2   The minimum scores for the Master’s in Applied...   \n",
              "3   For questions regarding an application fee wai...   \n",
              "4   The deadlines for the in-person MS in Applied ...   \n",
              "5   The provided context does not specify the exac...   \n",
              "6   The provided context does not specify whether ...   \n",
              "7   You can mail your official transcripts to the ...   \n",
              "8   No, the Master’s in Applied Data Science Onlin...   \n",
              "9   Applicants interested in the Joint MBA/MS degr...   \n",
              "10  Yes, the full-time, in-person MS in Applied Da...   \n",
              "11  You must successfully complete 12 courses to e...   \n",
              "\n",
              "                              Top Sources (Truncated)  \n",
              "0   [page_content='Skip to main content\\n\\nMS in A...  \n",
              "1   [page_content='Skip to main content\\n\\nMS in A...  \n",
              "2   [page_content='Skip to main content\\n\\nMS in A...  \n",
              "3   [page_content='Skip to main content\\n\\nMS in A...  \n",
              "4   [page_content='Skip to main content\\n\\nMS in A...  \n",
              "5   [page_content='Skip to main content\\n\\nMS in A...  \n",
              "6   [page_content='Skip to main content\\nAbout\\nRe...  \n",
              "7   [page_content='Skip to main content\\n\\nMS in A...  \n",
              "8   [page_content='Skip to main content\\nAbout\\nRe...  \n",
              "9   [page_content='Skip to main content\\nAbout\\nRe...  \n",
              "10  [page_content='Skip to main content\\n\\nMS in A...  \n",
              "11  [page_content='Skip to main content\\nAbout\\nRe...  "
            ]
          },
          "execution_count": 46,
          "metadata": {},
          "output_type": "execute_result"
        }
      ],
      "source": [
        "df = pd.DataFrame(results)\n",
        "df.head(15)"
      ]
    },
    {
      "cell_type": "markdown",
      "metadata": {},
      "source": [
        "# 3: Evaluation"
      ]
    },
    {
      "cell_type": "markdown",
      "metadata": {},
      "source": [
        "### Accuracy, relevance, and completeness of the responses"
      ]
    },
    {
      "cell_type": "markdown",
      "metadata": {},
      "source": [
        "https://docs.ragas.io/en/latest/getstarted/evals/#evaluating-using-a-llm-based-metric\n",
        "\n",
        "- **Accuracy** measures the agreement between a model’s response and a reference ground truth for a given question\n",
        "- **Context Relevance** evaluates whether the retrieved_contexts (chunks or passages) are pertinent to the user_input\n",
        "- **Response Groundedness** measures how well a response is supported or \"grounded\" by the retrieved contexts\n",
        "- **Completeness** measures how well the answer covers all aspects of the query using the retrieved context"
      ]
    },
    {
      "cell_type": "code",
      "execution_count": 47,
      "metadata": {},
      "outputs": [],
      "source": [
        "evaluator_llm = LangchainLLMWrapper(ChatOpenAI(model=\"gpt-4o\"))"
      ]
    },
    {
      "cell_type": "code",
      "execution_count": 48,
      "metadata": {},
      "outputs": [],
      "source": [
        "# Load test queries with reference answers\n",
        "with open(\"../data/test_queries.json\") as f:\n",
        "    test_query_data = json.load(f)\n",
        "\n",
        "# Create a lookup dictionary for references\n",
        "reference_lookup = {\n",
        "    q[\"user_input\"]: q[\"reference\"] for q in test_query_data[\"all_questions\"]\n",
        "}"
      ]
    },
    {
      "cell_type": "markdown",
      "metadata": {},
      "source": [
        "### Evaluating Accuracy of Responses\n",
        "\n",
        "https://docs.ragas.io/en/latest/concepts/metrics/available_metrics/nvidia_metrics/"
      ]
    },
    {
      "cell_type": "code",
      "execution_count": 49,
      "metadata": {},
      "outputs": [],
      "source": [
        "accuracy_scorer = AnswerAccuracy(llm=evaluator_llm)\n",
        "\n",
        "accuracy_scores = []\n",
        "for _, row in df.iterrows():\n",
        "    question = row[\"Question\"]\n",
        "    answer = row[\"Answer\"]\n",
        "    reference = reference_lookup.get(question, \"\")\n",
        "\n",
        "    if reference:\n",
        "        sample = SingleTurnSample(\n",
        "            user_input=question,\n",
        "            response=answer,\n",
        "            reference=reference\n",
        "        )\n",
        "        score = await accuracy_scorer.single_turn_ascore(sample)\n",
        "        accuracy_scores.append(score)\n",
        "    else:\n",
        "        accuracy_scores.append(None)\n",
        "\n",
        "# Add results to the dataframe\n",
        "df[\"Accuracy\"] = accuracy_scores"
      ]
    },
    {
      "cell_type": "markdown",
      "metadata": {},
      "source": [
        "### Evaluating Relevance of Responses\n",
        "\n",
        "https://docs.ragas.io/en/latest/concepts/metrics/available_metrics/nvidia_metrics/"
      ]
    },
    {
      "cell_type": "code",
      "execution_count": 50,
      "metadata": {},
      "outputs": [],
      "source": [
        "relevance_scorer = ContextRelevance(llm=evaluator_llm)\n",
        "\n",
        "relevance_scores = []\n",
        "for _, row in df.iterrows():\n",
        "    question = row[\"Question\"]\n",
        "    retrieved_docs = retriever.invoke(question)\n",
        "\n",
        "    retrieved_contexts = []\n",
        "    for relevant_doc in retrieved_docs:\n",
        "        #print(relevant_doc.page_content)\n",
        "        retrieved_contexts.append(relevant_doc.page_content)\n",
        "\n",
        "    if len(retrieved_contexts) > 0:\n",
        "        sample = SingleTurnSample(\n",
        "            user_input=question,\n",
        "            retrieved_contexts=retrieved_contexts\n",
        "        )\n",
        "\n",
        "\n",
        "        score = await relevance_scorer.single_turn_ascore(sample)\n",
        "        relevance_scores.append(score)\n",
        "    else:\n",
        "        relevance_scores.append(None)\n",
        "\n",
        "# Add results to the dataframe\n",
        "df[\"Relevance\"] = relevance_scores"
      ]
    },
    {
      "cell_type": "markdown",
      "metadata": {},
      "source": [
        "### Evaluating Groundedness of Responses\n",
        "\n",
        "https://docs.ragas.io/en/latest/concepts/metrics/available_metrics/nvidia_metrics/"
      ]
    },
    {
      "cell_type": "code",
      "execution_count": 51,
      "metadata": {},
      "outputs": [],
      "source": [
        "groundedness_scorer = ResponseGroundedness(llm=evaluator_llm)\n",
        "\n",
        "groundedness_scores = []\n",
        "for _, row in df.iterrows():\n",
        "    question = row[\"Question\"]\n",
        "    answer = row[\"Answer\"]\n",
        "    retrieved_docs = retriever.invoke(question)\n",
        "\n",
        "    retrieved_contexts = []\n",
        "    for relevant_doc in retrieved_docs:\n",
        "        #print(relevant_doc.page_content)\n",
        "        retrieved_contexts.append(relevant_doc.page_content)\n",
        "\n",
        "    if len(retrieved_contexts) > 0:\n",
        "        sample = SingleTurnSample(\n",
        "            response=answer,\n",
        "            retrieved_contexts=retrieved_contexts\n",
        "        )\n",
        "\n",
        "\n",
        "        score = await groundedness_scorer.single_turn_ascore(sample)\n",
        "        groundedness_scores.append(score)\n",
        "    else:\n",
        "        groundedness_scores.append(None)\n",
        "\n",
        "# Add results to the dataframe\n",
        "df[\"Groundedness\"] = groundedness_scores"
      ]
    },
    {
      "cell_type": "markdown",
      "metadata": {},
      "source": [
        "### Evaluating Completeness of Responses\n",
        "\n",
        "https://docs.ragas.io/en/stable/concepts/metrics/available_metrics/context_recall/#llm-based-context-recall"
      ]
    },
    {
      "cell_type": "code",
      "execution_count": 52,
      "metadata": {},
      "outputs": [],
      "source": [
        "contextrecall_scorer = LLMContextRecall(llm=evaluator_llm)\n",
        "\n",
        "completeness_scores = []\n",
        "for _, row in df.iterrows():\n",
        "    question = row[\"Question\"]\n",
        "    answer = row[\"Answer\"]\n",
        "    reference = reference_lookup.get(question, \"\")\n",
        "    retrieved_docs = retriever.invoke(question)\n",
        "\n",
        "    retrieved_contexts = []\n",
        "    for relevant_doc in retrieved_docs:\n",
        "        #print(relevant_doc.page_content)\n",
        "        retrieved_contexts.append(relevant_doc.page_content)\n",
        "\n",
        "    if len(retrieved_contexts) > 0:\n",
        "        sample = SingleTurnSample(\n",
        "            user_input=question,\n",
        "            response=answer,\n",
        "            reference=reference,\n",
        "            retrieved_contexts=retrieved_contexts\n",
        "        )\n",
        "\n",
        "        # Evaluate Context Recall\n",
        "        score  = await contextrecall_scorer.single_turn_ascore(sample)\n",
        "        completeness_scores.append(score)\n",
        "       \n",
        "    else:\n",
        "        completeness_scores.append(None)\n",
        "\n",
        "# Add results to the dataframe\n",
        "df[\"Completeness\"] = completeness_scores"
      ]
    },
    {
      "cell_type": "code",
      "execution_count": 53,
      "metadata": {},
      "outputs": [
        {
          "data": {
            "text/html": [
              "<div>\n",
              "<style scoped>\n",
              "    .dataframe tbody tr th:only-of-type {\n",
              "        vertical-align: middle;\n",
              "    }\n",
              "\n",
              "    .dataframe tbody tr th {\n",
              "        vertical-align: top;\n",
              "    }\n",
              "\n",
              "    .dataframe thead th {\n",
              "        text-align: right;\n",
              "    }\n",
              "</style>\n",
              "<table border=\"1\" class=\"dataframe\">\n",
              "  <thead>\n",
              "    <tr style=\"text-align: right;\">\n",
              "      <th></th>\n",
              "      <th>Question</th>\n",
              "      <th>Answer</th>\n",
              "      <th>Accuracy</th>\n",
              "      <th>Relevance</th>\n",
              "      <th>Groundedness</th>\n",
              "      <th>Completeness</th>\n",
              "    </tr>\n",
              "  </thead>\n",
              "  <tbody>\n",
              "    <tr>\n",
              "      <th>0</th>\n",
              "      <td>What is tuition cost for the program?</td>\n",
              "      <td>The tuition for the MS in Applied Data Science...</td>\n",
              "      <td>1.00</td>\n",
              "      <td>1.0</td>\n",
              "      <td>1.0</td>\n",
              "      <td>1.000000</td>\n",
              "    </tr>\n",
              "    <tr>\n",
              "      <th>1</th>\n",
              "      <td>What scholarships are available for the program?</td>\n",
              "      <td>The MS in Applied Data Science program offers ...</td>\n",
              "      <td>0.00</td>\n",
              "      <td>1.0</td>\n",
              "      <td>0.0</td>\n",
              "      <td>1.000000</td>\n",
              "    </tr>\n",
              "    <tr>\n",
              "      <th>2</th>\n",
              "      <td>What are the minimum scores for the TOEFL and ...</td>\n",
              "      <td>The minimum scores for the Master’s in Applied...</td>\n",
              "      <td>1.00</td>\n",
              "      <td>1.0</td>\n",
              "      <td>1.0</td>\n",
              "      <td>1.000000</td>\n",
              "    </tr>\n",
              "    <tr>\n",
              "      <th>3</th>\n",
              "      <td>Is there an application fee waiver?</td>\n",
              "      <td>For questions regarding an application fee wai...</td>\n",
              "      <td>1.00</td>\n",
              "      <td>1.0</td>\n",
              "      <td>1.0</td>\n",
              "      <td>1.000000</td>\n",
              "    </tr>\n",
              "    <tr>\n",
              "      <th>4</th>\n",
              "      <td>What are the deadlines for the in-person program?</td>\n",
              "      <td>The deadlines for the in-person MS in Applied ...</td>\n",
              "      <td>0.50</td>\n",
              "      <td>1.0</td>\n",
              "      <td>1.0</td>\n",
              "      <td>0.333333</td>\n",
              "    </tr>\n",
              "    <tr>\n",
              "      <th>5</th>\n",
              "      <td>How long will it take for me to receive a deci...</td>\n",
              "      <td>The provided context does not specify the exac...</td>\n",
              "      <td>0.00</td>\n",
              "      <td>0.0</td>\n",
              "      <td>1.0</td>\n",
              "      <td>0.000000</td>\n",
              "    </tr>\n",
              "    <tr>\n",
              "      <th>6</th>\n",
              "      <td>Can I set up an advising appointment with the ...</td>\n",
              "      <td>The provided context does not specify whether ...</td>\n",
              "      <td>0.00</td>\n",
              "      <td>0.0</td>\n",
              "      <td>0.0</td>\n",
              "      <td>0.000000</td>\n",
              "    </tr>\n",
              "    <tr>\n",
              "      <th>7</th>\n",
              "      <td>Where can I mail my official transcripts?</td>\n",
              "      <td>You can mail your official transcripts to the ...</td>\n",
              "      <td>1.00</td>\n",
              "      <td>1.0</td>\n",
              "      <td>1.0</td>\n",
              "      <td>1.000000</td>\n",
              "    </tr>\n",
              "    <tr>\n",
              "      <th>8</th>\n",
              "      <td>Does the Master’s in Applied Data Science Onli...</td>\n",
              "      <td>No, the Master’s in Applied Data Science Onlin...</td>\n",
              "      <td>0.75</td>\n",
              "      <td>1.0</td>\n",
              "      <td>1.0</td>\n",
              "      <td>1.000000</td>\n",
              "    </tr>\n",
              "    <tr>\n",
              "      <th>9</th>\n",
              "      <td>How do I apply to the MBA/MS program?</td>\n",
              "      <td>Applicants interested in the Joint MBA/MS degr...</td>\n",
              "      <td>1.00</td>\n",
              "      <td>0.0</td>\n",
              "      <td>0.0</td>\n",
              "      <td>1.000000</td>\n",
              "    </tr>\n",
              "    <tr>\n",
              "      <th>10</th>\n",
              "      <td>Is the MS in Applied Data Science program STEM...</td>\n",
              "      <td>Yes, the full-time, in-person MS in Applied Da...</td>\n",
              "      <td>1.00</td>\n",
              "      <td>1.0</td>\n",
              "      <td>1.0</td>\n",
              "      <td>1.000000</td>\n",
              "    </tr>\n",
              "    <tr>\n",
              "      <th>11</th>\n",
              "      <td>How many courses must you complete to earn UCh...</td>\n",
              "      <td>You must successfully complete 12 courses to e...</td>\n",
              "      <td>0.50</td>\n",
              "      <td>0.0</td>\n",
              "      <td>0.0</td>\n",
              "      <td>1.000000</td>\n",
              "    </tr>\n",
              "  </tbody>\n",
              "</table>\n",
              "</div>"
            ],
            "text/plain": [
              "                                             Question  \\\n",
              "0               What is tuition cost for the program?   \n",
              "1    What scholarships are available for the program?   \n",
              "2   What are the minimum scores for the TOEFL and ...   \n",
              "3                 Is there an application fee waiver?   \n",
              "4   What are the deadlines for the in-person program?   \n",
              "5   How long will it take for me to receive a deci...   \n",
              "6   Can I set up an advising appointment with the ...   \n",
              "7           Where can I mail my official transcripts?   \n",
              "8   Does the Master’s in Applied Data Science Onli...   \n",
              "9               How do I apply to the MBA/MS program?   \n",
              "10  Is the MS in Applied Data Science program STEM...   \n",
              "11  How many courses must you complete to earn UCh...   \n",
              "\n",
              "                                               Answer  Accuracy  Relevance  \\\n",
              "0   The tuition for the MS in Applied Data Science...      1.00        1.0   \n",
              "1   The MS in Applied Data Science program offers ...      0.00        1.0   \n",
              "2   The minimum scores for the Master’s in Applied...      1.00        1.0   \n",
              "3   For questions regarding an application fee wai...      1.00        1.0   \n",
              "4   The deadlines for the in-person MS in Applied ...      0.50        1.0   \n",
              "5   The provided context does not specify the exac...      0.00        0.0   \n",
              "6   The provided context does not specify whether ...      0.00        0.0   \n",
              "7   You can mail your official transcripts to the ...      1.00        1.0   \n",
              "8   No, the Master’s in Applied Data Science Onlin...      0.75        1.0   \n",
              "9   Applicants interested in the Joint MBA/MS degr...      1.00        0.0   \n",
              "10  Yes, the full-time, in-person MS in Applied Da...      1.00        1.0   \n",
              "11  You must successfully complete 12 courses to e...      0.50        0.0   \n",
              "\n",
              "    Groundedness  Completeness  \n",
              "0            1.0      1.000000  \n",
              "1            0.0      1.000000  \n",
              "2            1.0      1.000000  \n",
              "3            1.0      1.000000  \n",
              "4            1.0      0.333333  \n",
              "5            1.0      0.000000  \n",
              "6            0.0      0.000000  \n",
              "7            1.0      1.000000  \n",
              "8            1.0      1.000000  \n",
              "9            0.0      1.000000  \n",
              "10           1.0      1.000000  \n",
              "11           0.0      1.000000  "
            ]
          },
          "execution_count": 53,
          "metadata": {},
          "output_type": "execute_result"
        }
      ],
      "source": [
        "df[['Question', 'Answer', 'Accuracy', 'Relevance', 'Groundedness', 'Completeness']]"
      ]
    },
    {
      "cell_type": "markdown",
      "metadata": {},
      "source": [
        "### Interpretation of Evaluation Results\n",
        "\n",
        "- Row 0: \"What is tuition cost for the program?\"\n",
        "    - Accuracy: 1.0 – The tuition details are correctly specified.\n",
        "    - Relevance: 1.0 – Fully relevant to the query.\n",
        "    - Groundedness: 1.0 – Clearly based on trusted program data.\n",
        "    - Completeness: 1.0 – All necessary cost information is included.\n",
        "\n",
        "- Row 1: \"What scholarships are available for the program?\"\n",
        "    - Accuracy: 0.0 – Does not specify any scholarship details accurately.\n",
        "    - Relevance: 1.0 – Topically appropriate.\n",
        "    - Groundedness: 0.0 – No evidence or citation from the source.\n",
        "    - Completeness: 1.0 – Formally structured, but lacks accurate data.\n",
        "\n",
        "- Row 2: \"What are the minimum scores for the TOEFL and IELTS?\"\n",
        "    - Accuracy: 1.0 – Correct minimum scores are mentioned.\n",
        "    - Relevance: 1.0 – Completely on-topic.\n",
        "    - Groundedness: 1.0 – Data reflects official admissions requirements.\n",
        "    - Completeness: 1.0 – All score thresholds are included.\n",
        "\n",
        "- Row 3: \"Is there an application fee waiver?\"\n",
        "    - Accuracy: 1.0 – Accurately addresses the waiver process.\n",
        "    - Relevance: 1.0 – Directly answers the query.\n",
        "    - Groundedness: 1.0 – Based on stated university policy.\n",
        "    - Completeness: 1.0 – Includes the procedure or point of contact.\n",
        "\n",
        "- Row 4: \"What are the deadlines for the in-person program?\"\n",
        "    - Accuracy: 0.5 – Some deadlines may be missing or vague.\n",
        "    - Relevance: 1.0 – Clearly relates to the question.\n",
        "    - Groundedness: 1.0 – Appears sourced from program material.\n",
        "    - Completeness: 0.333 – Omits key dates or multiple deadline types (e.g., priority vs. final).\n",
        "\n",
        "- Row 5: \"How long will it take for me to receive a decision?\"\n",
        "    - Accuracy: 0.0 – No concrete timeframe is given.\n",
        "    - Relevance: 1.0 – The answer pertains to application decisions.\n",
        "    - Groundedness: 1.0 – The vague response reflects a lack of source precision, not hallucination.\n",
        "    - Completeness: 0.0 – Lacks any useful timeline.\n",
        "\n",
        "- Row 6: \"Can I set up an advising appointment with the program?\"\n",
        "    - Accuracy: 0.0 – Doesn’t confirm or deny this option.\n",
        "    - Relevance: 0.0 – No answer is provided.\n",
        "    - Groundedness: 0.0 – No reference or attempt at answer.\n",
        "    - Completeness: 0.0 – Entirely unaddressed.\n",
        "\n",
        "- Row 7: \"Where can I mail my official transcripts?\"\n",
        "    - Accuracy: 1.0 – Provides a valid mailing address.\n",
        "    - Relevance: 1.0 – Directly answers the question.\n",
        "    - Groundedness: 1.0 – Likely grounded in admissions policy.\n",
        "    - Completeness: 1.0 – Includes all required details.\n",
        "\n",
        "- Row 8: \"Does the Master’s in Applied Data Science Online require a thesis?\"\n",
        "    - Accuracy: 0.75 – Likely states the correct policy but may lack explanation.\n",
        "    - Relevance: 1.0 – On-topic.\n",
        "    - Groundedness: 1.0 – Tied to program policy.\n",
        "    - Completeness: 1.0 – Sufficiently addresses the thesis requirement.\n",
        "\n",
        "- Row 9: \"How do I apply to the MBA/MS program?\"\n",
        "    - Accuracy: 1.0 – Describes the joint application process.\n",
        "    - Relevance: 1.0 – Directly answers the question.\n",
        "    - Groundedness: 1.0 – Drawn from program instructions.\n",
        "    - Completeness: 1.0 – Fully explains the procedure.\n",
        "\n",
        "- Row 10: \"Is the MS in Applied Data Science program STEM-designated?\"\n",
        "    - Accuracy: 1.0 – Correctly identifies STEM designation.\n",
        "    - Relevance: 1.0 – Topically aligned.\n",
        "    - Groundedness: 1.0 – Supported by official classification.\n",
        "    - Completeness: 1.0 – No information missing.\n",
        "\n",
        "- Row 11: \"How many courses must you complete to earn UChicago’s MS in Applied Data Science?\"\n",
        "    - Accuracy: 0.5 – May state the number but lacks course breakdown or type.\n",
        "    - Relevance: 0.0 – Possibly too vague or not directly tied to program structure.\n",
        "    - Groundedness: 1.0 – Based on curriculum facts.\n",
        "    - Completeness: 1.0 – Includes core requirement but may lack nuance (e.g., electives or project credits)."
      ]
    },
    {
      "cell_type": "code",
      "execution_count": 55,
      "metadata": {},
      "outputs": [
        {
          "data": {
            "text/plain": [
              "'Thu, 08 May 2025 18:43:20'"
            ]
          },
          "execution_count": 55,
          "metadata": {},
          "output_type": "execute_result"
        }
      ],
      "source": [
        "import datetime\n",
        "import pytz\n",
        "\n",
        "datetime.datetime.now(pytz.timezone('US/Central')).strftime(\"%a, %d %B %Y %H:%M:%S\")"
      ]
    }
  ],
  "metadata": {
    "colab": {
      "provenance": []
    },
    "kernelspec": {
      "display_name": "GenAI-Program-Env",
      "language": "python",
      "name": "python3"
    },
    "language_info": {
      "codemirror_mode": {
        "name": "ipython",
        "version": 3
      },
      "file_extension": ".py",
      "mimetype": "text/x-python",
      "name": "python",
      "nbconvert_exporter": "python",
      "pygments_lexer": "ipython3",
      "version": "3.12.8"
    }
  },
  "nbformat": 4,
  "nbformat_minor": 0
}
